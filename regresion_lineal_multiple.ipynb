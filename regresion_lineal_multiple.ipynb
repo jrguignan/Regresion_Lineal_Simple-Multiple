{
 "cells": [
  {
   "cell_type": "code",
   "execution_count": 2,
   "metadata": {},
   "outputs": [],
   "source": [
    "import pandas as pd\n",
    "import numpy as np\n",
    "#from numpy import matrix\n",
    "from scipy import linalg\n",
    "import matplotlib.pyplot as plt\n",
    "import seaborn as sns\n",
    "\n",
    "from sklearn import linear_model\n",
    "from sklearn.metrics import r2_score"
   ]
  },
  {
   "cell_type": "code",
   "execution_count": 3,
   "metadata": {},
   "outputs": [
    {
     "data": {
      "text/html": [
       "<div>\n",
       "<style scoped>\n",
       "    .dataframe tbody tr th:only-of-type {\n",
       "        vertical-align: middle;\n",
       "    }\n",
       "\n",
       "    .dataframe tbody tr th {\n",
       "        vertical-align: top;\n",
       "    }\n",
       "\n",
       "    .dataframe thead th {\n",
       "        text-align: right;\n",
       "    }\n",
       "</style>\n",
       "<table border=\"1\" class=\"dataframe\">\n",
       "  <thead>\n",
       "    <tr style=\"text-align: right;\">\n",
       "      <th></th>\n",
       "      <th>Total_interactions</th>\n",
       "      <th>Post_weekday</th>\n",
       "      <th>Share</th>\n",
       "      <th>Like</th>\n",
       "    </tr>\n",
       "  </thead>\n",
       "  <tbody>\n",
       "    <tr>\n",
       "      <th>0</th>\n",
       "      <td>100</td>\n",
       "      <td>4</td>\n",
       "      <td>17.0</td>\n",
       "      <td>79.0</td>\n",
       "    </tr>\n",
       "  </tbody>\n",
       "</table>\n",
       "</div>"
      ],
      "text/plain": [
       "   Total_interactions  Post_weekday  Share  Like\n",
       "0                 100             4   17.0  79.0"
      ]
     },
     "execution_count": 3,
     "metadata": {},
     "output_type": "execute_result"
    }
   ],
   "source": [
    "\n",
    "df = pd.read_csv(\"datasets\\datos_facebook.csv\")\n",
    "df.head(1)\n",
    "\n",
    "# total interactions es la variable a predecir\n",
    "\n",
    "# post weekday, share, like son las variables fijas "
   ]
  },
  {
   "cell_type": "markdown",
   "metadata": {},
   "source": [
    "# Regresión Lineal Múltiple from Scratch"
   ]
  },
  {
   "cell_type": "code",
   "execution_count": 4,
   "metadata": {},
   "outputs": [
    {
     "name": "stdout",
     "output_type": "stream",
     "text": [
      "Ecuación del Hiperplano de la Regresión\n",
      "Y = -0.23475876 X +1.30433038 Z + 1.01865267 W -3.12352673\n",
      "Coeficiente de Determinación Múltiple (R^2): 0.999\n"
     ]
    }
   ],
   "source": [
    "\n",
    "\n",
    "df = pd.read_csv(\"datasets\\datos_facebook.csv\")\n",
    "\n",
    "#arreglo de las variables\n",
    "x_=df[\"Post_weekday\"].values\n",
    "z=df[\"Share\"].values\n",
    "w=df[\"Like\"].values\n",
    "#un arreglo de unos para la expresion en matrices\n",
    "coe=np.ones(len(z))\n",
    "\n",
    "#Se pasan los datos de la dataframe a un arreglo de matriz y se calcula la transpuesta\n",
    "x=np.matrix([coe,x_,z,w]).T          \n",
    "y=np.matrix(np.array(df.Total_interactions)).T\n",
    "\n",
    "#Calcula (inv(X^T*x))*(x^T*y) - Regresion Lineal multiple con matrices\n",
    "A=( linalg.inv((x.T)*x) )  *  ((x.T)*y)\n",
    "\n",
    "#mostrar el hiperplano predicho\n",
    "print(\"Ecuación del Hiperplano de la Regresión\")\n",
    "print(\"Y = {} X +{} Z + {} W {}\".format(np.array(A[1])[0][0].round(8),np.array(A[2])[0][0].round(8),np.array(A[3])[0][0].round(8),np.array(A[0])[0][0].round(8)  ))\n",
    "\n",
    "#calculo de la variable predicha con la ecuacion del hiperplano\n",
    "Y_pred = (np.array(A[1])[0][0]*x_) + (np.array(A[2])[0][0]*z) +(np.array(A[3])[0][0]*w)\n",
    "Y = np.array(y)\n",
    "\n",
    "#calculo de R2\n",
    "r2 = r2_score(Y,Y_pred)\n",
    "print(\"Coeficiente de Determinación Múltiple (R^2):\",r2.round(3))"
   ]
  },
  {
   "cell_type": "markdown",
   "metadata": {},
   "source": [
    "# Regresión Lineal Múltiple usando scikit-learn"
   ]
  },
  {
   "cell_type": "code",
   "execution_count": 5,
   "metadata": {},
   "outputs": [
    {
     "name": "stdout",
     "output_type": "stream",
     "text": [
      "Ecuación del Hiperplano de la Regresión\n",
      "Y = -0.23475876 X +1.30433038 Z + 1.01865267 W -3.12352673\n",
      "Coeficiente de Determinación Múltiple (R^2): 0.999\n"
     ]
    }
   ],
   "source": [
    "df = pd.read_csv(\"datasets\\datos_facebook.csv\")\n",
    "\n",
    "#crea los arreglos de entrada\n",
    "y=df[\"Total_interactions\"].values\n",
    "x=df[\"Post_weekday\"].values\n",
    "z=df[\"Share\"].values\n",
    "w=df[\"Like\"].values\n",
    "\n",
    "\n",
    "#Agrupa todas la variables dependientes en un solo arreglo ,T para ser columnas\n",
    "X=np.array([x,z,w]).T\n",
    "\n",
    "#Aplica una regresion lineal y consigue los coeficientes\n",
    "regresion = linear_model.LinearRegression()\n",
    "model = regresion.fit(X,y)\n",
    "\n",
    "#muestra el hiperplano del ajuste\n",
    "print(\"Ecuación del Hiperplano de la Regresión\")\n",
    "print(\"Y = {} X +{} Z + {} W {}\".format(round(float(model.coef_[0]),8),round(float(model.coef_[1]),8),round(float(model.coef_[2]),8),round(float(model.intercept_),8)) )\n",
    "\n",
    "#calculo de la variable predicha con el hiperplano calculado\n",
    "Y_pred = model.predict(X)\n",
    "\n",
    "#calculo de r2\n",
    "r2 = r2_score(y,Y_pred)\n",
    "print(\"Coeficiente de Determinación Múltiple (R^2):\",r2.round(3))"
   ]
  },
  {
   "cell_type": "markdown",
   "metadata": {},
   "source": [
    "Ambos cálculos dieron los mismo resultados, cálculado con matrices y con la librería scikit-learn. Para ambos casos nos da un R^2 con un ajuste muy bueno muy cercano al 1. <br>\n",
    "No se graficó por ser un hiperplano de 3 dimensiones."
   ]
  }
 ],
 "metadata": {
  "kernelspec": {
   "display_name": "Python 3",
   "language": "python",
   "name": "python3"
  },
  "language_info": {
   "codemirror_mode": {
    "name": "ipython",
    "version": 3
   },
   "file_extension": ".py",
   "mimetype": "text/x-python",
   "name": "python",
   "nbconvert_exporter": "python",
   "pygments_lexer": "ipython3",
   "version": "3.11.5"
  }
 },
 "nbformat": 4,
 "nbformat_minor": 2
}
