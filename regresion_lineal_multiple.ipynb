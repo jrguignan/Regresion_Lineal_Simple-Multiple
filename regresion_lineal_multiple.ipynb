{
 "cells": [
  {
   "cell_type": "code",
   "execution_count": null,
   "metadata": {},
   "outputs": [],
   "source": [
    "import pandas as pd\n",
    "import numpy as np\n",
    "from scipy import linalg\n",
    "import matplotlib.pyplot as plt\n",
    "\n",
    "from sklearn import linear_model"
   ]
  },
  {
   "cell_type": "markdown",
   "metadata": {},
   "source": [
    "# Regresión Lineal Múltiple from Scratch"
   ]
  },
  {
   "cell_type": "code",
   "execution_count": null,
   "metadata": {},
   "outputs": [],
   "source": [
    "\n",
    "\n",
    "archivo = pd.read_csv(\"DatosRLM.csv\")\n",
    "\n",
    "#Se pasan los datos de la dataframe a un arreglo de matriz y se calcula la transpuesta\n",
    "x=matrix([archivo.iloc[0:24,4],archivo.iloc[0:24,0],archivo.iloc[0:24,2],archivo.iloc[0:24,3]]).T          \n",
    "y=matrix([archivo.iloc[0:24,1]]).T\n",
    "\n",
    "#Calcula (inv(X^T*x))*(x^T*y) Regresion Lineal multiple con matrices\n",
    "A=(linalg.inv((x.T)*x))*((x.T)*y)\n",
    "\n",
    "print(\"Y = {} X +{} Z + {} W +{}\".format(A[1],A[2],A[3],A[0]))"
   ]
  },
  {
   "cell_type": "markdown",
   "metadata": {},
   "source": [
    "# Regresión Lineal Múltiple usando scikit-learn"
   ]
  }
 ],
 "metadata": {
  "kernelspec": {
   "display_name": "Python 3",
   "language": "python",
   "name": "python3"
  },
  "language_info": {
   "name": "python",
   "version": "3.11.5"
  }
 },
 "nbformat": 4,
 "nbformat_minor": 2
}
